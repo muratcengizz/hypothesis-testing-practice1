{
 "cells": [
  {
   "cell_type": "markdown",
   "id": "a7869db7-66bd-4623-8cf5-a535938d8356",
   "metadata": {},
   "source": [
    "### Bir online perakende mağazasının müşteri siparişleri üzerine bir veri seti oluşturuldu. Bu veri setinde, müşterilerin sipariş verme tarihleri, ürünleri ve miktarları, ödeme yöntemleri, bölgesel bilgileri gibi veriler yer alıyor. Bu verilerin kullanımı, mağazanın stok yönetimini ve müşteri hizmetlerini geliştirmek için kullanılacak."
   ]
  },
  {
   "cell_type": "code",
   "execution_count": 5,
   "id": "8392f43d-4af5-4e74-8e58-9d8112842de7",
   "metadata": {},
   "outputs": [],
   "source": [
    "import numpy as np\n",
    "import pandas as pd\n",
    "import seaborn as sns\n",
    "import matplotlib.pyplot as plt\n",
    "from scipy.stats import shapiro, levene, ttest_ind"
   ]
  },
  {
   "cell_type": "markdown",
   "id": "cd8e9acf-86ed-44f9-b058-7196bc294d67",
   "metadata": {},
   "source": [
    "# Veri Setini Oluşturma"
   ]
  },
  {
   "cell_type": "code",
   "execution_count": 8,
   "id": "6f3dbf72-2c2f-4139-9618-2c4b6eb46764",
   "metadata": {},
   "outputs": [
    {
     "data": {
      "text/html": [
       "<div>\n",
       "<style scoped>\n",
       "    .dataframe tbody tr th:only-of-type {\n",
       "        vertical-align: middle;\n",
       "    }\n",
       "\n",
       "    .dataframe tbody tr th {\n",
       "        vertical-align: top;\n",
       "    }\n",
       "\n",
       "    .dataframe thead th {\n",
       "        text-align: right;\n",
       "    }\n",
       "</style>\n",
       "<table border=\"1\" class=\"dataframe\">\n",
       "  <thead>\n",
       "    <tr style=\"text-align: right;\">\n",
       "      <th></th>\n",
       "      <th>Tarih</th>\n",
       "      <th>Ürün</th>\n",
       "      <th>Adet</th>\n",
       "      <th>Ödeme Yöntemi</th>\n",
       "      <th>Bölge</th>\n",
       "    </tr>\n",
       "  </thead>\n",
       "  <tbody>\n",
       "    <tr>\n",
       "      <th>0</th>\n",
       "      <td>2022-01-01</td>\n",
       "      <td>Kalem</td>\n",
       "      <td>9</td>\n",
       "      <td>Kredi Kartı</td>\n",
       "      <td>İstanbul</td>\n",
       "    </tr>\n",
       "    <tr>\n",
       "      <th>1</th>\n",
       "      <td>2022-01-02</td>\n",
       "      <td>Kitap</td>\n",
       "      <td>5</td>\n",
       "      <td>Havale</td>\n",
       "      <td>Ankara</td>\n",
       "    </tr>\n",
       "    <tr>\n",
       "      <th>2</th>\n",
       "      <td>2022-01-03</td>\n",
       "      <td>Kitap</td>\n",
       "      <td>8</td>\n",
       "      <td>Nakit</td>\n",
       "      <td>İzmir</td>\n",
       "    </tr>\n",
       "    <tr>\n",
       "      <th>3</th>\n",
       "      <td>2022-01-04</td>\n",
       "      <td>Çanta</td>\n",
       "      <td>3</td>\n",
       "      <td>Nakit</td>\n",
       "      <td>Ankara</td>\n",
       "    </tr>\n",
       "    <tr>\n",
       "      <th>4</th>\n",
       "      <td>2022-01-05</td>\n",
       "      <td>Kalem</td>\n",
       "      <td>4</td>\n",
       "      <td>Nakit</td>\n",
       "      <td>İstanbul</td>\n",
       "    </tr>\n",
       "  </tbody>\n",
       "</table>\n",
       "</div>"
      ],
      "text/plain": [
       "       Tarih   Ürün  Adet Ödeme Yöntemi     Bölge\n",
       "0 2022-01-01  Kalem     9   Kredi Kartı  İstanbul\n",
       "1 2022-01-02  Kitap     5        Havale    Ankara\n",
       "2 2022-01-03  Kitap     8         Nakit     İzmir\n",
       "3 2022-01-04  Çanta     3         Nakit    Ankara\n",
       "4 2022-01-05  Kalem     4         Nakit  İstanbul"
      ]
     },
     "execution_count": 8,
     "metadata": {},
     "output_type": "execute_result"
    }
   ],
   "source": [
    "# veri setini oluşturalım.\n",
    "\n",
    "order_dates = pd.date_range(start='2022-01-01', end='2022-12-31') # tarih\n",
    "products = ['Kalem', 'Defter', 'Silgi', 'Çanta', 'Kitap'] # ürün\n",
    "quantities = np.random.randint(1, 10, size=len(order_dates)) # adet\n",
    "payment_methods = ['Kredi Kartı', 'Havale', 'Nakit'] # ödeme yöntemi\n",
    "regions = ['Ankara', 'İstanbul', 'İzmir', 'Bursa'] # bölge\n",
    "\n",
    "df = pd.DataFrame({\n",
    "    'Tarih': order_dates,\n",
    "    'Ürün': np.random.choice(products, size=len(order_dates)),\n",
    "    'Adet': quantities,\n",
    "    'Ödeme Yöntemi': np.random.choice(payment_methods, size=len(order_dates)),\n",
    "    'Bölge': np.random.choice(regions, size=len(order_dates))\n",
    "})\n",
    "\n",
    "df.head()"
   ]
  },
  {
   "cell_type": "markdown",
   "id": "a8b4ced1-5c27-49df-8ca2-8c8f2e55d401",
   "metadata": {},
   "source": [
    "# Veri Görselleştirme"
   ]
  },
  {
   "cell_type": "markdown",
   "id": "a2d01eff-fa4e-437a-8211-74123733efb2",
   "metadata": {},
   "source": [
    "#### Veri setindeki değişkenlerin dağılımlarını görselleştirmek, verileri daha iyi anlamamıza yardımcı olur. "
   ]
  },
  {
   "cell_type": "code",
   "execution_count": 9,
   "id": "af4d8d78-ba64-43ed-8f2f-d1b6c212a523",
   "metadata": {},
   "outputs": [
    {
     "data": {
      "image/png": "[encoded data removed]",
      "text/plain": [
       "<Figure size 432x288 with 1 Axes>"
      ]
     },
     "metadata": {
      "needs_background": "light"
     },
     "output_type": "display_data"
    }
   ],
   "source": [
    "sns.histplot(data=df, x='Adet', bins=range(1, 11), kde=True)\n",
    "plt.title('Sipariş Miktarları')\n",
    "plt.show()"
   ]
  },
  {
   "cell_type": "markdown",
   "id": "a94d3ac3-5f8a-4e5a-9966-f5b975ebe800",
   "metadata": {},
   "source": [
    "#### Histogramda, verilerin normal dağılıma benzediği görülüyor. Bunun yanı sıra, QQ-plot ve Shapiro-Wilk testi gibi normalite testleri de uygulanabilir. Bu testlerin sonuçlarına bakarak dağılımın normal olduğunu onaylayabiliriz."
   ]
  },
  {
   "cell_type": "code",
   "execution_count": 11,
   "id": "29690e3c-d30f-4062-8779-37e8ac9405f2",
   "metadata": {},
   "outputs": [
    {
     "name": "stdout",
     "output_type": "stream",
     "text": [
      "Statistic = 0.9290306568145752\n",
      "P-value = 3.732293120395358e-12\n"
     ]
    }
   ],
   "source": [
    "# normalite testi\n",
    "\n",
    "stat, p = shapiro(df['Adet'])\n",
    "print(f'Statistic = {stat}\\nP-value = {p}')"
   ]
  },
  {
   "cell_type": "markdown",
   "id": "059e377d-c6a2-4ece-89d2-24005bafa40f",
   "metadata": {},
   "source": [
    "#### p değeri 0.05 'ten küçük olduğu için normal dağılım varsayımı reddedilir. Yani verilerin dağılımı normal dağılmıyor."
   ]
  },
  {
   "cell_type": "markdown",
   "id": "febc138c-c3bc-436a-9221-29b46b399035",
   "metadata": {},
   "source": [
    "# Hipotez Testi"
   ]
  },
  {
   "cell_type": "markdown",
   "id": "acf3fa2b-fd52-4e0e-8f59-7d8e6d2be5a7",
   "metadata": {},
   "source": [
    "#### Veri setimizde hipotez testi yapmak için, müşterilerin farklı bölge ve ödeme yöntemleri kullanarak verdikleri siparişlerin ortalama değerlerini karşılaştırabiliriz. Örneğin, İstanbul ve İzmir 'den yapılan kredi kartı ödemeli siparişlerin ortalama değerleri arasında anlamlı bir fark olup olmadığını test edebiliriz."
   ]
  },
  {
   "cell_type": "markdown",
   "id": "94805ff0-73a7-49e5-ab10-a69c606f9b13",
   "metadata": {},
   "source": [
    "### Hipotezlerimiz:\n",
    "\n",
    "#### H0: İstanbul ve İzmir'den yapılan kredi kartı ödemeli siparişlerin ortalama değerleri arasında anlamlı bir fark yoktur.\n",
    "\n",
    "#### H1: İstanbul ve İzmir'den yapılan kredi kartı ödemeli siparişlerin ortalama değerleri arasında anlamlı bir fark vardır."
   ]
  },
  {
   "cell_type": "code",
   "execution_count": null,
   "id": "0582fd0a-139c-4986-806d-c81f9e72c3d3",
   "metadata": {},
   "outputs": [],
   "source": []
  },
  {
   "cell_type": "markdown",
   "id": "809a6b91-d452-42a4-b39c-e80bbf20b6d2",
   "metadata": {},
   "source": [
    "#### Bu hipotezleri test etmek için, öncelikle gruplar arasındaki verilerin varyansların eşit olup olmadığını test edebiliriz. Bu amaçla, Levene testi kullanabiliriz."
   ]
  },
  {
   "cell_type": "code",
   "execution_count": 14,
   "id": "72ccccf9-0b97-418a-8b23-b8672731d3dc",
   "metadata": {},
   "outputs": [
    {
     "name": "stdout",
     "output_type": "stream",
     "text": [
      "Statistic = 0.3233904374226736\n",
      "P-value = 0.5719791237571124\n"
     ]
    }
   ],
   "source": [
    "# varyans homojenliği testi\n",
    "\n",
    "ist_kk = df.loc[(df['Bölge'] == 'İstanbul') & (df['Ödeme Yöntemi'] == 'Kredi Kartı'), 'Adet']\n",
    "izm_kk = df.loc[(df['Bölge'] == 'İzmir') & (df['Ödeme Yöntemi'] == 'Kredi Kartı'), 'Adet']\n",
    "\n",
    "stat, p = levene(ist_kk, izm_kk)\n",
    "print(f'Statistic = {stat}\\nP-value = {p}')"
   ]
  },
  {
   "cell_type": "markdown",
   "id": "7acfc9b6-5b65-4d49-9653-71f506fba26f",
   "metadata": {},
   "source": [
    "#### p-value değeri 0.05 'ten büyük olduğu için varyans homojenliği varsayımı kabul edilir.\n",
    "\n",
    "#### Sonuçlar, varyans homojenliği varsayımını destekliyor. Bu nedenle, iki bağımsız örneklem t-testi uygulayabiliriz."
   ]
  },
  {
   "cell_type": "code",
   "execution_count": 15,
   "id": "e0321db5-7996-477a-8a48-2924becc80b6",
   "metadata": {},
   "outputs": [
    {
     "name": "stdout",
     "output_type": "stream",
     "text": [
      "Statistic = -1.16054305044283\n",
      "P-value = 0.25102868276445206\n"
     ]
    }
   ],
   "source": [
    "# t-testi\n",
    "\n",
    "t_stat, p = ttest_ind(ist_kk, izm_kk)\n",
    "print(f'Statistic = {t_stat}\\nP-value = {p}')"
   ]
  },
  {
   "cell_type": "markdown",
   "id": "85748aa6-45bc-4250-a4bd-1d9b3053c274",
   "metadata": {},
   "source": [
    "#### P-value değeri 0.05 'den büyük olduğu için H0 hipotezi reddedilmez. Bu sonuca göre, İstanbul ve İzmir'den yapılan kredi kartı ödemeli siparişlerin ortalama değerleri arasında anlamlı bir fark yoktur."
   ]
  }
 ],
 "metadata": {
  "kernelspec": {
   "display_name": "Python 3 (ipykernel)",
   "language": "python",
   "name": "python3"
  },
  "language_info": {
   "codemirror_mode": {
    "name": "ipython",
    "version": 3
   },
   "file_extension": ".py",
   "mimetype": "text/x-python",
   "name": "python",
   "nbconvert_exporter": "python",
   "pygments_lexer": "ipython3",
   "version": "3.9.12"
  }
 },
 "nbformat": 4,
 "nbformat_minor": 5
}
